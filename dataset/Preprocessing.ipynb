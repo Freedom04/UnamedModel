{
 "cells": [
  {
   "cell_type": "code",
   "execution_count": null,
   "metadata": {},
   "outputs": [],
   "source": [
    "from scipy.io import mmwrite\n",
    "from scipy.sparse import csr_matrix\n",
    "import scanpy as sc\n",
    "import numpy as np\n",
    "import pandas as pd\n",
    "import seaborn as sns\n",
    "import matplotlib.pyplot as plt\n",
    "from sklearn.manifold import TSNE\n",
    "from sklearn.decomposition import PCA\n",
    "import anndata\n",
    "\n",
    "from dataset.dataloader import initAnndata, initAndataWithtsv"
   ]
  },
  {
   "cell_type": "code",
   "execution_count": null,
   "metadata": {},
   "outputs": [],
   "source": [
    "gene_adata = initAndataWithtsv(\"data/SNAREseq/CellLineMixture_SNAREseq_cDNA_counts.tsv\")\n",
    "atac_adata = initAndataWithtsv(\"data/SNAREseq/CellLineMixture_SNAREseq_chromatin_counts.tsv\")\n",
    "print(gene_adata)\n",
    "print(atac_adata)"
   ]
  }
 ],
 "metadata": {
  "kernelspec": {
   "display_name": "dev",
   "language": "python",
   "name": "python3"
  },
  "language_info": {
   "name": "python",
   "version": "3.8.17"
  }
 },
 "nbformat": 4,
 "nbformat_minor": 2
}
