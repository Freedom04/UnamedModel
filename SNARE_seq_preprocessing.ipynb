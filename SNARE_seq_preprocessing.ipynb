{
 "cells": [
  {
   "cell_type": "code",
   "execution_count": 1,
   "metadata": {},
   "outputs": [],
   "source": [
    "from scipy.io import mmwrite\n",
    "from scipy.sparse import csr_matrix\n",
    "import scanpy as sc\n",
    "import numpy as np\n",
    "import pandas as pd\n",
    "import seaborn as sns\n",
    "import matplotlib.pyplot as plt\n",
    "from sklearn.manifold import TSNE\n",
    "from sklearn.decomposition import PCA\n",
    "import anndata\n",
    "\n",
    "from dataset.dataloader import initAnndata, initAndataWithtsv"
   ]
  },
  {
   "cell_type": "code",
   "execution_count": 2,
   "metadata": {},
   "outputs": [
    {
     "name": "stdout",
     "output_type": "stream",
     "text": [
      "AnnData object with n_obs × n_vars = 1047 × 18666\n",
      "AnnData object with n_obs × n_vars = 1047 × 136771\n"
     ]
    }
   ],
   "source": [
    "gene_adata = initAndataWithtsv(\"data/SNAREseq/CellLineMixture_SNAREseq_cDNA_counts.tsv\")\n",
    "atac_adata = initAndataWithtsv(\"data/SNAREseq/CellLineMixture_SNAREseq_chromatin_counts.tsv\")\n",
    "print(gene_adata)\n",
    "print(atac_adata)"
   ]
  },
  {
   "cell_type": "markdown",
   "metadata": {},
   "source": [
    "## QC"
   ]
  },
  {
   "cell_type": "code",
   "execution_count": 3,
   "metadata": {},
   "outputs": [
    {
     "name": "stdout",
     "output_type": "stream",
     "text": [
      "AnnData object with n_obs × n_vars = 1047 × 9266\n",
      "    obs: 'n_genes'\n",
      "    var: 'n_cells'\n",
      "AnnData object with n_obs × n_vars = 1039 × 26357\n",
      "    obs: 'n_genes'\n",
      "    var: 'n_cells'\n"
     ]
    }
   ],
   "source": [
    "# filter cells with fewer than 200 genes\n",
    "sc.pp.filter_cells(gene_adata, min_genes=200)\n",
    "# filter genes with fewer than 10 cells\n",
    "sc.pp.filter_genes(gene_adata, min_cells=10)\n",
    "# filter cells with fewer than 200 peaks\n",
    "sc.pp.filter_cells(atac_adata, min_genes=200)\n",
    "# filter peaks with fewer than 10 cells\n",
    "sc.pp.filter_genes(atac_adata, min_cells=10)\n",
    "print(gene_adata)\n",
    "print(atac_adata)"
   ]
  },
  {
   "cell_type": "markdown",
   "metadata": {},
   "source": [
    "## Normalize"
   ]
  },
  {
   "cell_type": "code",
   "execution_count": 4,
   "metadata": {},
   "outputs": [],
   "source": [
    "sc.pp.normalize_total(gene_adata, target_sum=1)\n",
    "sc.pp.log1p(gene_adata)\n",
    "sc.pp.normalize_total(atac_adata, target_sum=1)\n",
    "sc.pp.log1p(atac_adata)"
   ]
  },
  {
   "cell_type": "markdown",
   "metadata": {},
   "source": [
    "## Feature selection"
   ]
  },
  {
   "cell_type": "code",
   "execution_count": 5,
   "metadata": {},
   "outputs": [
    {
     "name": "stderr",
     "output_type": "stream",
     "text": [
      "/home/zhen/anaconda3/envs/dev/lib/python3.10/site-packages/scanpy/preprocessing/_highly_variable_genes.py:220: FutureWarning: The default of observed=False is deprecated and will be changed to True in a future version of pandas. Pass observed=False to retain current behavior or observed=True to adopt the future default and silence this warning.\n",
      "  disp_grouped = df.groupby('mean_bin')['dispersions']\n",
      "/home/zhen/anaconda3/envs/dev/lib/python3.10/site-packages/scanpy/preprocessing/_highly_variable_genes.py:220: FutureWarning: The default of observed=False is deprecated and will be changed to True in a future version of pandas. Pass observed=False to retain current behavior or observed=True to adopt the future default and silence this warning.\n",
      "  disp_grouped = df.groupby('mean_bin')['dispersions']\n"
     ]
    }
   ],
   "source": [
    "sc.pp.highly_variable_genes(gene_adata, \n",
    "                            n_top_genes=8000)\n",
    "sc.pp.highly_variable_genes(atac_adata, \n",
    "                            n_top_genes=24000)"
   ]
  },
  {
   "cell_type": "code",
   "execution_count": 6,
   "metadata": {},
   "outputs": [
    {
     "name": "stdout",
     "output_type": "stream",
     "text": [
      "AnnData object with n_obs × n_vars = 1047 × 9266\n",
      "    obs: 'n_genes'\n",
      "    var: 'n_cells', 'highly_variable', 'means', 'dispersions', 'dispersions_norm'\n",
      "    uns: 'log1p', 'hvg'\n",
      "AnnData object with n_obs × n_vars = 1039 × 26357\n",
      "    obs: 'n_genes'\n",
      "    var: 'n_cells', 'highly_variable', 'means', 'dispersions', 'dispersions_norm'\n",
      "    uns: 'log1p', 'hvg'\n"
     ]
    }
   ],
   "source": [
    "print(gene_adata)\n",
    "print(atac_adata)"
   ]
  },
  {
   "cell_type": "code",
   "execution_count": 7,
   "metadata": {},
   "outputs": [
    {
     "data": {
      "text/plain": [
       "View of AnnData object with n_obs × n_vars = 1047 × 8000\n",
       "    obs: 'n_genes'\n",
       "    var: 'n_cells', 'highly_variable', 'means', 'dispersions', 'dispersions_norm'\n",
       "    uns: 'log1p', 'hvg'"
      ]
     },
     "execution_count": 7,
     "metadata": {},
     "output_type": "execute_result"
    }
   ],
   "source": [
    "highly_var_gene_adata = gene_adata[:, gene_adata.var['highly_variable']]\n",
    "highly_var_gene_adata"
   ]
  },
  {
   "cell_type": "code",
   "execution_count": 8,
   "metadata": {},
   "outputs": [
    {
     "data": {
      "text/plain": [
       "View of AnnData object with n_obs × n_vars = 1039 × 24000\n",
       "    obs: 'n_genes'\n",
       "    var: 'n_cells', 'highly_variable', 'means', 'dispersions', 'dispersions_norm'\n",
       "    uns: 'log1p', 'hvg'"
      ]
     },
     "execution_count": 8,
     "metadata": {},
     "output_type": "execute_result"
    }
   ],
   "source": [
    "highly_var_atac_adata = atac_adata[:, atac_adata.var['highly_variable']]\n",
    "highly_var_atac_adata"
   ]
  },
  {
   "cell_type": "code",
   "execution_count": 9,
   "metadata": {},
   "outputs": [],
   "source": [
    "barcodes = pd.DataFrame(highly_var_gene_adata.obs.index)\n",
    "barcodes.to_csv(\"data/SNAREseq/CellLineMixture/gene_barcodes.txt\", sep='\\t', index=False, header=False)\n",
    "\n",
    "genes = pd.DataFrame(highly_var_gene_adata.var.index)\n",
    "genes.to_csv(\"data/SNAREseq/CellLineMixture/gene_names.txt\", sep='\\t', index=False, header=False)\n",
    "\n",
    "gene_counts = csr_matrix(highly_var_gene_adata.X)\n",
    "mmwrite(\"data/SNAREseq/CellLineMixture/gene_expression.mtx\", gene_counts)"
   ]
  },
  {
   "cell_type": "code",
   "execution_count": 10,
   "metadata": {},
   "outputs": [],
   "source": [
    "barcodes = pd.DataFrame(highly_var_atac_adata.obs.index)\n",
    "barcodes.to_csv(\"data/SNAREseq/CellLineMixture/atac_barcodes.txt\", sep='\\t', index=False, header=False)\n",
    "peaks = pd.DataFrame(highly_var_atac_adata.var.index)\n",
    "peaks.to_csv(\"data/SNAREseq/CellLineMixture/atac_names.txt\", sep='\\t', index=False, header=False)\n",
    "\n",
    "atac_counts = csr_matrix(highly_var_atac_adata.X)\n",
    "mmwrite(\"data/SNAREseq/CellLineMixture/atac_expression.mtx\", atac_counts)"
   ]
  }
 ],
 "metadata": {
  "kernelspec": {
   "display_name": "VirtualEnv-40UC5LHq",
   "language": "python",
   "name": "python3"
  },
  "language_info": {
   "codemirror_mode": {
    "name": "ipython",
    "version": 3
   },
   "file_extension": ".py",
   "mimetype": "text/x-python",
   "name": "python",
   "nbconvert_exporter": "python",
   "pygments_lexer": "ipython3",
   "version": "3.10.12"
  }
 },
 "nbformat": 4,
 "nbformat_minor": 2
}
